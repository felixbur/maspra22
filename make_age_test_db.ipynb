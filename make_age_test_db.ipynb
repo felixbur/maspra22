{
 "cells": [
  {
   "cell_type": "code",
   "execution_count": 1,
   "metadata": {},
   "outputs": [],
   "source": [
    "import audformat\n",
    "import pandas as pd"
   ]
  },
  {
   "cell_type": "code",
   "execution_count": 2,
   "metadata": {},
   "outputs": [],
   "source": [
    "df_sample = pd.read_csv('age_files/sample_list.csv', index_col='file')"
   ]
  },
  {
   "cell_type": "code",
   "execution_count": 3,
   "metadata": {},
   "outputs": [],
   "source": [
    "df_sample = df_sample.rename(columns={'sex':'gender'})\n",
    "df_sample.to_csv('age_files/ml_age_df.csv')"
   ]
  },
  {
   "cell_type": "code",
   "execution_count": 4,
   "metadata": {},
   "outputs": [],
   "source": [
    "# Add a column for duration in seconds\n",
    "def calc_dur(x):\n",
    "    starts = x[1]\n",
    "    ends = x[2]\n",
    "    return (ends - starts).total_seconds()\n",
    "# add the root folder for audio samples\n",
    "root = './age_files/'\n",
    "df_sample = df_sample.set_index(df_sample.index.to_series().map(lambda x:root+x))\n",
    "# add start and end times\n",
    "df_sample = df_sample.set_index(audformat.utils.to_segmented_index(df_sample.index, allow_nat=False))\n",
    "# compute duration\n",
    "df_sample['duration'] = df_sample.index.to_series().map(lambda x:calc_dur(x)) "
   ]
  },
  {
   "cell_type": "code",
   "execution_count": 5,
   "metadata": {},
   "outputs": [
    {
     "data": {
      "text/html": [
       "<div>\n",
       "<style scoped>\n",
       "    .dataframe tbody tr th:only-of-type {\n",
       "        vertical-align: middle;\n",
       "    }\n",
       "\n",
       "    .dataframe tbody tr th {\n",
       "        vertical-align: top;\n",
       "    }\n",
       "\n",
       "    .dataframe thead th {\n",
       "        text-align: right;\n",
       "    }\n",
       "</style>\n",
       "<table border=\"1\" class=\"dataframe\">\n",
       "  <thead>\n",
       "    <tr style=\"text-align: right;\">\n",
       "      <th></th>\n",
       "      <th></th>\n",
       "      <th></th>\n",
       "      <th>speaker</th>\n",
       "      <th>gender</th>\n",
       "      <th>age</th>\n",
       "      <th>duration</th>\n",
       "    </tr>\n",
       "    <tr>\n",
       "      <th>file</th>\n",
       "      <th>start</th>\n",
       "      <th>end</th>\n",
       "      <th></th>\n",
       "      <th></th>\n",
       "      <th></th>\n",
       "      <th></th>\n",
       "    </tr>\n",
       "  </thead>\n",
       "  <tbody>\n",
       "    <tr>\n",
       "      <th>./age_files/magdalena/mm01_m_29.wav</th>\n",
       "      <th>0 days</th>\n",
       "      <th>0 days 00:00:29.717312</th>\n",
       "      <td>mm01</td>\n",
       "      <td>m</td>\n",
       "      <td>29</td>\n",
       "      <td>29.717312</td>\n",
       "    </tr>\n",
       "    <tr>\n",
       "      <th>./age_files/magdalena/mm02_f_31.wav</th>\n",
       "      <th>0 days</th>\n",
       "      <th>0 days 00:00:32.048000</th>\n",
       "      <td>mm02</td>\n",
       "      <td>f</td>\n",
       "      <td>31</td>\n",
       "      <td>32.048000</td>\n",
       "    </tr>\n",
       "    <tr>\n",
       "      <th>./age_files/magdalena/mm03_f_82.wav</th>\n",
       "      <th>0 days</th>\n",
       "      <th>0 days 00:00:13.897062</th>\n",
       "      <td>mm03</td>\n",
       "      <td>f</td>\n",
       "      <td>82</td>\n",
       "      <td>13.897062</td>\n",
       "    </tr>\n",
       "    <tr>\n",
       "      <th>./age_files/magdalena/mm04_m_60.wav</th>\n",
       "      <th>0 days</th>\n",
       "      <th>0 days 00:00:38.107000</th>\n",
       "      <td>mm04</td>\n",
       "      <td>m</td>\n",
       "      <td>60</td>\n",
       "      <td>38.107000</td>\n",
       "    </tr>\n",
       "    <tr>\n",
       "      <th>./age_files/magdalena/mm05_f_58.wav</th>\n",
       "      <th>0 days</th>\n",
       "      <th>0 days 00:00:30.676000</th>\n",
       "      <td>mm05</td>\n",
       "      <td>f</td>\n",
       "      <td>58</td>\n",
       "      <td>30.676000</td>\n",
       "    </tr>\n",
       "  </tbody>\n",
       "</table>\n",
       "</div>"
      ],
      "text/plain": [
       "                                                                  speaker  \\\n",
       "file                                start  end                              \n",
       "./age_files/magdalena/mm01_m_29.wav 0 days 0 days 00:00:29.717312    mm01   \n",
       "./age_files/magdalena/mm02_f_31.wav 0 days 0 days 00:00:32.048000    mm02   \n",
       "./age_files/magdalena/mm03_f_82.wav 0 days 0 days 00:00:13.897062    mm03   \n",
       "./age_files/magdalena/mm04_m_60.wav 0 days 0 days 00:00:38.107000    mm04   \n",
       "./age_files/magdalena/mm05_f_58.wav 0 days 0 days 00:00:30.676000    mm05   \n",
       "\n",
       "                                                                  gender  age  \\\n",
       "file                                start  end                                  \n",
       "./age_files/magdalena/mm01_m_29.wav 0 days 0 days 00:00:29.717312      m   29   \n",
       "./age_files/magdalena/mm02_f_31.wav 0 days 0 days 00:00:32.048000      f   31   \n",
       "./age_files/magdalena/mm03_f_82.wav 0 days 0 days 00:00:13.897062      f   82   \n",
       "./age_files/magdalena/mm04_m_60.wav 0 days 0 days 00:00:38.107000      m   60   \n",
       "./age_files/magdalena/mm05_f_58.wav 0 days 0 days 00:00:30.676000      f   58   \n",
       "\n",
       "                                                                    duration  \n",
       "file                                start  end                                \n",
       "./age_files/magdalena/mm01_m_29.wav 0 days 0 days 00:00:29.717312  29.717312  \n",
       "./age_files/magdalena/mm02_f_31.wav 0 days 0 days 00:00:32.048000  32.048000  \n",
       "./age_files/magdalena/mm03_f_82.wav 0 days 0 days 00:00:13.897062  13.897062  \n",
       "./age_files/magdalena/mm04_m_60.wav 0 days 0 days 00:00:38.107000  38.107000  \n",
       "./age_files/magdalena/mm05_f_58.wav 0 days 0 days 00:00:30.676000  30.676000  "
      ]
     },
     "execution_count": 5,
     "metadata": {},
     "output_type": "execute_result"
    }
   ],
   "source": [
    "df_sample.head()"
   ]
  },
  {
   "cell_type": "code",
   "execution_count": 6,
   "metadata": {},
   "outputs": [
    {
     "data": {
      "text/plain": [
       "(43, 4)"
      ]
     },
     "execution_count": 6,
     "metadata": {},
     "output_type": "execute_result"
    }
   ],
   "source": [
    "df_sample.shape"
   ]
  },
  {
   "cell_type": "code",
   "execution_count": 7,
   "metadata": {},
   "outputs": [
    {
     "data": {
      "text/plain": [
       "<AxesSubplot: ylabel='Frequency'>"
      ]
     },
     "execution_count": 7,
     "metadata": {},
     "output_type": "execute_result"
    },
    {
     "data": {
      "image/png": "[encoded data removed]",
      "text/plain": [
       "<Figure size 640x480 with 1 Axes>"
      ]
     },
     "metadata": {},
     "output_type": "display_data"
    }
   ],
   "source": [
    "df_sample.age.plot(kind='hist')"
   ]
  },
  {
   "cell_type": "code",
   "execution_count": 8,
   "metadata": {},
   "outputs": [
    {
     "data": {
      "text/plain": [
       "<AxesSubplot: ylabel='Frequency'>"
      ]
     },
     "execution_count": 8,
     "metadata": {},
     "output_type": "execute_result"
    },
    {
     "data": {
      "image/png": "[encoded data removed]",
      "text/plain": [
       "<Figure size 640x480 with 1 Axes>"
      ]
     },
     "metadata": {},
     "output_type": "display_data"
    }
   ],
   "source": [
    "df_sample.duration.plot(kind='hist')"
   ]
  },
  {
   "cell_type": "code",
   "execution_count": 9,
   "metadata": {},
   "outputs": [
    {
     "data": {
      "text/plain": [
       "('./age_files/hanna/hs12_30.wav',\n",
       " Timedelta('0 days 00:00:00'),\n",
       " Timedelta('0 days 00:02:04.945375'))"
      ]
     },
     "execution_count": 9,
     "metadata": {},
     "output_type": "execute_result"
    }
   ],
   "source": [
    "df_sample.duration.idxmax()"
   ]
  },
  {
   "cell_type": "code",
   "execution_count": 10,
   "metadata": {},
   "outputs": [
    {
     "data": {
      "text/plain": [
       "('./age_files/felix/004_f_45.wav',\n",
       " Timedelta('0 days 00:00:00'),\n",
       " Timedelta('0 days 00:00:02.078187'))"
      ]
     },
     "execution_count": 10,
     "metadata": {},
     "output_type": "execute_result"
    }
   ],
   "source": [
    "df_sample.duration.idxmin()"
   ]
  },
  {
   "cell_type": "code",
   "execution_count": 15,
   "metadata": {},
   "outputs": [],
   "source": [
    "# segment the data\n",
    "from inaSpeechSegmenter import Segmenter\n",
    "from inaSpeechSegmenter.export_funcs import seg2csv, seg2textgrid\n",
    "from audformat.utils import to_filewise_index\n",
    "from audformat import segmented_index\n",
    "seg = Segmenter()"
   ]
  },
  {
   "cell_type": "code",
   "execution_count": 19,
   "metadata": {},
   "outputs": [
    {
     "data": {
      "text/html": [
       "<div>\n",
       "<style scoped>\n",
       "    .dataframe tbody tr th:only-of-type {\n",
       "        vertical-align: middle;\n",
       "    }\n",
       "\n",
       "    .dataframe tbody tr th {\n",
       "        vertical-align: top;\n",
       "    }\n",
       "\n",
       "    .dataframe thead th {\n",
       "        text-align: right;\n",
       "    }\n",
       "</style>\n",
       "<table border=\"1\" class=\"dataframe\">\n",
       "  <thead>\n",
       "    <tr style=\"text-align: right;\">\n",
       "      <th></th>\n",
       "      <th></th>\n",
       "      <th></th>\n",
       "      <th>speaker</th>\n",
       "      <th>gender</th>\n",
       "      <th>age</th>\n",
       "      <th>duration</th>\n",
       "    </tr>\n",
       "    <tr>\n",
       "      <th>file</th>\n",
       "      <th>start</th>\n",
       "      <th>end</th>\n",
       "      <th></th>\n",
       "      <th></th>\n",
       "      <th></th>\n",
       "      <th></th>\n",
       "    </tr>\n",
       "  </thead>\n",
       "  <tbody>\n",
       "    <tr>\n",
       "      <th>./age_files/magdalena/mm01_m_29.wav</th>\n",
       "      <th>0 days</th>\n",
       "      <th>0 days 00:00:29.717312</th>\n",
       "      <td>mm01</td>\n",
       "      <td>m</td>\n",
       "      <td>29</td>\n",
       "      <td>29.717312</td>\n",
       "    </tr>\n",
       "  </tbody>\n",
       "</table>\n",
       "</div>"
      ],
      "text/plain": [
       "                                                                  speaker  \\\n",
       "file                                start  end                              \n",
       "./age_files/magdalena/mm01_m_29.wav 0 days 0 days 00:00:29.717312    mm01   \n",
       "\n",
       "                                                                  gender  age  \\\n",
       "file                                start  end                                  \n",
       "./age_files/magdalena/mm01_m_29.wav 0 days 0 days 00:00:29.717312      m   29   \n",
       "\n",
       "                                                                    duration  \n",
       "file                                start  end                                \n",
       "./age_files/magdalena/mm01_m_29.wav 0 days 0 days 00:00:29.717312  29.717312  "
      ]
     },
     "execution_count": 19,
     "metadata": {},
     "output_type": "execute_result"
    }
   ],
   "source": [
    "df_sample.head(1)"
   ]
  },
  {
   "cell_type": "code",
   "execution_count": 23,
   "metadata": {},
   "outputs": [
    {
     "name": "stdout",
     "output_type": "stream",
     "text": [
      "segmenting ./age_files/magdalena/mm01_m_29.wav\n",
      " 5/46 [==>...........................] - ETA: 0s"
     ]
    },
    {
     "name": "stderr",
     "output_type": "stream",
     "text": [
      "/home/audeering.local/fburkhardt/Private/TU/WS2022/ML/venv/lib/python3.8/site-packages/inaSpeechSegmenter/segmenter.py:61: RuntimeWarning: invalid value encountered in subtract\n",
      "  data = (data - np.mean(data, axis=1).reshape((len(data), 1))) / np.std(data, axis=1).reshape((len(data), 1))\n",
      "/home/audeering.local/fburkhardt/Private/TU/WS2022/ML/venv/lib/python3.8/site-packages/numpy/core/_methods.py:233: RuntimeWarning: invalid value encountered in subtract\n",
      "  x = asanyarray(arr - arrmean)\n"
     ]
    },
    {
     "name": "stdout",
     "output_type": "stream",
     "text": [
      "46/46 [==============================] - 1s 12ms/step\n",
      "46/46 [==============================] - 2s 52ms/step\n",
      "segmenting ./age_files/magdalena/mm02_f_31.wav\n",
      "46/46 [==============================] - 1s 12ms/step\n",
      "46/46 [==============================] - 2s 51ms/step\n",
      "segmenting ./age_files/magdalena/mm03_f_82.wav\n",
      "11/22 [==============>...............] - ETA: 0s"
     ]
    },
    {
     "name": "stderr",
     "output_type": "stream",
     "text": [
      "/home/audeering.local/fburkhardt/Private/TU/WS2022/ML/venv/lib/python3.8/site-packages/inaSpeechSegmenter/segmenter.py:61: RuntimeWarning: invalid value encountered in subtract\n",
      "  data = (data - np.mean(data, axis=1).reshape((len(data), 1))) / np.std(data, axis=1).reshape((len(data), 1))\n",
      "/home/audeering.local/fburkhardt/Private/TU/WS2022/ML/venv/lib/python3.8/site-packages/numpy/core/_methods.py:233: RuntimeWarning: invalid value encountered in subtract\n",
      "  x = asanyarray(arr - arrmean)\n"
     ]
    },
    {
     "name": "stdout",
     "output_type": "stream",
     "text": [
      "22/22 [==============================] - 0s 12ms/step\n",
      "22/22 [==============================] - 1s 52ms/step\n",
      "segmenting ./age_files/magdalena/mm04_m_60.wav\n",
      "60/60 [==============================] - 1s 12ms/step\n",
      "60/60 [==============================] - 3s 52ms/step\n",
      "segmenting ./age_files/magdalena/mm05_f_58.wav\n",
      "48/48 [==============================] - 1s 11ms/step\n",
      "48/48 [==============================] - 3s 52ms/step\n",
      "segmenting ./age_files/magdalena/mm06_m_14.wav\n",
      "27/27 [==============================] - 0s 12ms/step\n",
      "27/27 [==============================] - 1s 51ms/step\n",
      "segmenting ./age_files/magdalena/mm06_m_34.wav\n",
      "27/27 [==============================] - 0s 12ms/step\n",
      "27/27 [==============================] - 1s 52ms/step\n",
      "segmenting ./age_files/magdalena/mm06_m_57.wav\n",
      "61/61 [==============================] - 1s 12ms/step\n",
      "61/61 [==============================] - 3s 52ms/step\n",
      "segmenting ./age_files/magdalena/mm07_m_32.wav\n",
      "37/37 [==============================] - 0s 12ms/step\n",
      "37/37 [==============================] - 2s 51ms/step\n",
      "segmenting ./age_files/magdalena/mm08_f_31.wav\n",
      "39/39 [==============================] - 0s 11ms/step\n",
      "39/39 [==============================] - 2s 51ms/step\n",
      "segmenting ./age_files/magdalena/mm09_f_23.wav\n",
      "42/42 [==============================] - 0s 11ms/step\n",
      "41/41 [==============================] - 2s 50ms/step\n",
      "segmenting ./age_files/magdalena/mm10_m_33.wav\n",
      "41/41 [==============================] - 0s 11ms/step\n",
      "41/41 [==============================] - 2s 49ms/step\n",
      "segmenting ./age_files/magdalena/mm11_m_39.wav\n",
      "64/64 [==============================] - 1s 11ms/step\n",
      "64/64 [==============================] - 3s 50ms/step\n",
      "segmenting ./age_files/magdalena/mm12_f_29.wav\n",
      "37/37 [==============================] - 0s 12ms/step\n",
      "37/37 [==============================] - 2s 51ms/step\n",
      "segmenting ./age_files/magdalena/mm13_f_53.wav\n",
      "59/59 [==============================] - 1s 12ms/step\n",
      "59/59 [==============================] - 3s 50ms/step\n",
      "segmenting ./age_files/magdalena/mm14_m_53.wav\n",
      "37/37 [==============================] - 0s 12ms/step\n",
      "37/37 [==============================] - 2s 51ms/step\n",
      "segmenting ./age_files/magdalena/mm15_m_19.wav\n",
      "40/40 [==============================] - 1s 13ms/step\n",
      "40/40 [==============================] - 2s 55ms/step\n",
      "segmenting ./age_files/magdalena/mm16_f_27.wav\n",
      "36/36 [==============================] - 0s 11ms/step\n",
      "36/36 [==============================] - 2s 51ms/step\n",
      "segmenting ./age_files/magdalena/mm17_m_26.wav\n",
      "20/20 [==============================] - 0s 11ms/step\n",
      "20/20 [==============================] - 1s 50ms/step\n",
      "segmenting ./age_files/magdalena/mm18_m_28.wav\n",
      "42/42 [==============================] - 0s 11ms/step\n",
      "42/42 [==============================] - 2s 51ms/step\n",
      "segmenting ./age_files/magdalena/mm19_f_26.wav\n",
      "30/30 [==============================] - 0s 11ms/step\n",
      "30/30 [==============================] - 2s 51ms/step\n",
      "segmenting ./age_files/hanna/hs12_30.wav\n",
      "193/193 [==============================] - 2s 12ms/step\n",
      "4/4 [==============================] - 0s 47ms/step\n",
      "segmenting ./age_files/hanna/hs13_31.wav\n",
      "134/134 [==============================] - 2s 11ms/step\n",
      "27/27 [==============================] - 1s 51ms/step\n",
      "segmenting ./age_files/hanna/hs14_32.wav\n",
      "189/189 [==============================] - 2s 12ms/step\n",
      "74/74 [==============================] - 4s 51ms/step\n",
      "segmenting ./age_files/hanna/hs15_76.wav\n",
      "128/128 [==============================] - 2s 12ms/step\n",
      "segmenting ./age_files/hanna/hs16_16.wav\n",
      "124/124 [==============================] - 1s 11ms/step\n",
      "95/95 [==============================] - 5s 50ms/step\n",
      "segmenting ./age_files/hanna/hs17_14.wav\n",
      "122/122 [==============================] - 1s 12ms/step\n",
      "segmenting ./age_files/hanna/hs18_72.wav\n",
      "139/139 [==============================] - 2s 12ms/step\n",
      "14/14 [==============================] - 1s 52ms/step\n",
      "segmenting ./age_files/hanna/hs19_69.wav\n",
      "122/122 [==============================] - 1s 12ms/step\n",
      "segmenting ./age_files/hanna/hs2_44.wav\n",
      "134/134 [==============================] - 2s 12ms/step\n",
      "22/22 [==============================] - 1s 52ms/step\n",
      "segmenting ./age_files/hanna/hs3_40.wav\n",
      "133/133 [==============================] - 2s 12ms/step\n",
      "87/87 [==============================] - 4s 51ms/step\n",
      "segmenting ./age_files/hanna/hs4_67.wav\n",
      "140/140 [==============================] - 2s 12ms/step\n",
      "segmenting ./age_files/hanna/hs5_25.wav\n",
      "125/125 [==============================] - 1s 11ms/step\n",
      "segmenting ./age_files/hanna/hs6_58.wav\n",
      "135/135 [==============================] - 2s 11ms/step\n",
      "83/83 [==============================] - 4s 51ms/step\n",
      "segmenting ./age_files/hanna/hs7_65.wav\n",
      "135/135 [==============================] - 2s 11ms/step\n",
      "segmenting ./age_files/hanna/hs8_72.wav\n",
      "127/127 [==============================] - 1s 11ms/step\n",
      "segmenting ./age_files/hanna/hs9_81.wav\n",
      "132/132 [==============================] - 2s 11ms/step\n",
      "segmenting ./age_files/felix/001_f_09.wav\n",
      "5/5 [==============================] - 0s 13ms/step\n",
      "5/5 [==============================] - 0s 50ms/step\n",
      "segmenting ./age_files/felix/002_f_45.wav\n",
      "7/7 [==============================] - 0s 12ms/step\n",
      "7/7 [==============================] - 0s 45ms/step\n",
      "segmenting ./age_files/felix/003_M_45.wav\n",
      "5/5 [==============================] - 0s 14ms/step\n",
      "5/5 [==============================] - 0s 49ms/step\n",
      "segmenting ./age_files/felix/004_f_45.wav\n",
      "4/4 [==============================] - 0s 11ms/step\n",
      "4/4 [==============================] - 0s 38ms/step\n",
      "segmenting ./age_files/felix/005_m_50.wav\n",
      "9/9 [==============================] - 0s 12ms/step\n",
      "9/9 [==============================] - 0s 48ms/step\n",
      "segmenting ./age_files/felix/006_m_50.wav\n",
      "12/12 [==============================] - 0s 12ms/step\n",
      "12/12 [==============================] - 1s 48ms/step\n"
     ]
    }
   ],
   "source": [
    "import warnings\n",
    "warnings.simplefilter(action='ignore', category=FutureWarning)\n",
    "\n",
    "def get_segmentation(file):\n",
    "    print(f'segmenting {file[0]}')\n",
    "    segmentation = seg(file[0])\n",
    "    files, starts, ends = [], [], []\n",
    "    for entry in segmentation:\n",
    "        kind = entry[0]\n",
    "        start = entry[1]\n",
    "        end = entry[2]\n",
    "        if kind == 'female' or kind == 'male':\n",
    "            #print (f'{file}, {start}, {end}')\n",
    "            files.append(file[0])\n",
    "            starts.append(start)\n",
    "            ends.append(end)\n",
    "    seg_index = segmented_index(files, starts, ends)\n",
    "    return seg_index\n",
    "\n",
    "def segment_dataframe(df):\n",
    "    dfs = []\n",
    "    for file, values in df.iterrows():\n",
    "        index = get_segmentation(file)\n",
    "        dfs.append(\n",
    "            pd.DataFrame(\n",
    "                values.to_dict(),\n",
    "                index,\n",
    "            )\n",
    "        )\n",
    "    return audformat.utils.concat(dfs)\n",
    "\n",
    "df_seg = segment_dataframe(df_sample)\n"
   ]
  },
  {
   "cell_type": "code",
   "execution_count": 24,
   "metadata": {},
   "outputs": [
    {
     "data": {
      "text/html": [
       "<div>\n",
       "<style scoped>\n",
       "    .dataframe tbody tr th:only-of-type {\n",
       "        vertical-align: middle;\n",
       "    }\n",
       "\n",
       "    .dataframe tbody tr th {\n",
       "        vertical-align: top;\n",
       "    }\n",
       "\n",
       "    .dataframe thead th {\n",
       "        text-align: right;\n",
       "    }\n",
       "</style>\n",
       "<table border=\"1\" class=\"dataframe\">\n",
       "  <thead>\n",
       "    <tr style=\"text-align: right;\">\n",
       "      <th></th>\n",
       "      <th></th>\n",
       "      <th></th>\n",
       "      <th>speaker</th>\n",
       "      <th>gender</th>\n",
       "      <th>age</th>\n",
       "      <th>duration</th>\n",
       "    </tr>\n",
       "    <tr>\n",
       "      <th>file</th>\n",
       "      <th>start</th>\n",
       "      <th>end</th>\n",
       "      <th></th>\n",
       "      <th></th>\n",
       "      <th></th>\n",
       "      <th></th>\n",
       "    </tr>\n",
       "  </thead>\n",
       "  <tbody>\n",
       "    <tr>\n",
       "      <th rowspan=\"2\" valign=\"top\">./age_files/magdalena/mm01_m_29.wav</th>\n",
       "      <th>0 days 00:00:00</th>\n",
       "      <th>0 days 00:00:15.820000</th>\n",
       "      <td>mm01</td>\n",
       "      <td>m</td>\n",
       "      <td>29</td>\n",
       "      <td>29.717312</td>\n",
       "    </tr>\n",
       "    <tr>\n",
       "      <th>0 days 00:00:16.520000</th>\n",
       "      <th>0 days 00:00:29.700000</th>\n",
       "      <td>mm01</td>\n",
       "      <td>m</td>\n",
       "      <td>29</td>\n",
       "      <td>29.717312</td>\n",
       "    </tr>\n",
       "    <tr>\n",
       "      <th rowspan=\"3\" valign=\"top\">./age_files/magdalena/mm02_f_31.wav</th>\n",
       "      <th>0 days 00:00:00</th>\n",
       "      <th>0 days 00:00:12.820000</th>\n",
       "      <td>mm02</td>\n",
       "      <td>f</td>\n",
       "      <td>31</td>\n",
       "      <td>32.048000</td>\n",
       "    </tr>\n",
       "    <tr>\n",
       "      <th>0 days 00:00:13.620000</th>\n",
       "      <th>0 days 00:00:17.840000</th>\n",
       "      <td>mm02</td>\n",
       "      <td>f</td>\n",
       "      <td>31</td>\n",
       "      <td>32.048000</td>\n",
       "    </tr>\n",
       "    <tr>\n",
       "      <th>0 days 00:00:18.440000</th>\n",
       "      <th>0 days 00:00:20.880000</th>\n",
       "      <td>mm02</td>\n",
       "      <td>f</td>\n",
       "      <td>31</td>\n",
       "      <td>32.048000</td>\n",
       "    </tr>\n",
       "  </tbody>\n",
       "</table>\n",
       "</div>"
      ],
      "text/plain": [
       "                                                                                  speaker  \\\n",
       "file                                start                  end                              \n",
       "./age_files/magdalena/mm01_m_29.wav 0 days 00:00:00        0 days 00:00:15.820000    mm01   \n",
       "                                    0 days 00:00:16.520000 0 days 00:00:29.700000    mm01   \n",
       "./age_files/magdalena/mm02_f_31.wav 0 days 00:00:00        0 days 00:00:12.820000    mm02   \n",
       "                                    0 days 00:00:13.620000 0 days 00:00:17.840000    mm02   \n",
       "                                    0 days 00:00:18.440000 0 days 00:00:20.880000    mm02   \n",
       "\n",
       "                                                                                  gender  \\\n",
       "file                                start                  end                             \n",
       "./age_files/magdalena/mm01_m_29.wav 0 days 00:00:00        0 days 00:00:15.820000      m   \n",
       "                                    0 days 00:00:16.520000 0 days 00:00:29.700000      m   \n",
       "./age_files/magdalena/mm02_f_31.wav 0 days 00:00:00        0 days 00:00:12.820000      f   \n",
       "                                    0 days 00:00:13.620000 0 days 00:00:17.840000      f   \n",
       "                                    0 days 00:00:18.440000 0 days 00:00:20.880000      f   \n",
       "\n",
       "                                                                                   age  \\\n",
       "file                                start                  end                           \n",
       "./age_files/magdalena/mm01_m_29.wav 0 days 00:00:00        0 days 00:00:15.820000   29   \n",
       "                                    0 days 00:00:16.520000 0 days 00:00:29.700000   29   \n",
       "./age_files/magdalena/mm02_f_31.wav 0 days 00:00:00        0 days 00:00:12.820000   31   \n",
       "                                    0 days 00:00:13.620000 0 days 00:00:17.840000   31   \n",
       "                                    0 days 00:00:18.440000 0 days 00:00:20.880000   31   \n",
       "\n",
       "                                                                                    duration  \n",
       "file                                start                  end                                \n",
       "./age_files/magdalena/mm01_m_29.wav 0 days 00:00:00        0 days 00:00:15.820000  29.717312  \n",
       "                                    0 days 00:00:16.520000 0 days 00:00:29.700000  29.717312  \n",
       "./age_files/magdalena/mm02_f_31.wav 0 days 00:00:00        0 days 00:00:12.820000  32.048000  \n",
       "                                    0 days 00:00:13.620000 0 days 00:00:17.840000  32.048000  \n",
       "                                    0 days 00:00:18.440000 0 days 00:00:20.880000  32.048000  "
      ]
     },
     "execution_count": 24,
     "metadata": {},
     "output_type": "execute_result"
    }
   ],
   "source": [
    "df_seg.head()"
   ]
  },
  {
   "cell_type": "code",
   "execution_count": 25,
   "metadata": {},
   "outputs": [],
   "source": [
    "df_seg.to_csv('age_files/ml_age_segmented.csv')"
   ]
  },
  {
   "cell_type": "code",
   "execution_count": null,
   "metadata": {},
   "outputs": [],
   "source": []
  }
 ],
 "metadata": {
  "kernelspec": {
   "display_name": "venv",
   "language": "python",
   "name": "python3"
  },
  "language_info": {
   "codemirror_mode": {
    "name": "ipython",
    "version": 3
   },
   "file_extension": ".py",
   "mimetype": "text/x-python",
   "name": "python",
   "nbconvert_exporter": "python",
   "pygments_lexer": "ipython3",
   "version": "3.8.10"
  },
  "orig_nbformat": 4,
  "vscode": {
   "interpreter": {
    "hash": "7ce3cfee25dda4ff643a984a843e6a05ac75460f849fba5a41ffc1fea972ed68"
   }
  }
 },
 "nbformat": 4,
 "nbformat_minor": 2
}
