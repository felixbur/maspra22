{
 "cells": [
  {
   "cell_type": "code",
   "execution_count": 3,
   "metadata": {},
   "outputs": [],
   "source": [
    "import audformat\n",
    "import pandas as pd"
   ]
  },
  {
   "cell_type": "code",
   "execution_count": 11,
   "metadata": {},
   "outputs": [],
   "source": [
    "df_sample = pd.read_csv('../age_files/sample_list.csv', index_col='file')"
   ]
  },
  {
   "cell_type": "code",
   "execution_count": 12,
   "metadata": {},
   "outputs": [
    {
     "data": {
      "text/html": [
       "<div>\n",
       "<style scoped>\n",
       "    .dataframe tbody tr th:only-of-type {\n",
       "        vertical-align: middle;\n",
       "    }\n",
       "\n",
       "    .dataframe tbody tr th {\n",
       "        vertical-align: top;\n",
       "    }\n",
       "\n",
       "    .dataframe thead th {\n",
       "        text-align: right;\n",
       "    }\n",
       "</style>\n",
       "<table border=\"1\" class=\"dataframe\">\n",
       "  <thead>\n",
       "    <tr style=\"text-align: right;\">\n",
       "      <th></th>\n",
       "      <th>speaker</th>\n",
       "      <th>sex</th>\n",
       "      <th>age</th>\n",
       "    </tr>\n",
       "    <tr>\n",
       "      <th>file</th>\n",
       "      <th></th>\n",
       "      <th></th>\n",
       "      <th></th>\n",
       "    </tr>\n",
       "  </thead>\n",
       "  <tbody>\n",
       "    <tr>\n",
       "      <th>Natalie/NB_1_m_33.wav</th>\n",
       "      <td>NB_1_m_33</td>\n",
       "      <td>m</td>\n",
       "      <td>33</td>\n",
       "    </tr>\n",
       "    <tr>\n",
       "      <th>Natalie/NB_2_w_67.wav</th>\n",
       "      <td>NB_2_f_67</td>\n",
       "      <td>f</td>\n",
       "      <td>67</td>\n",
       "    </tr>\n",
       "  </tbody>\n",
       "</table>\n",
       "</div>"
      ],
      "text/plain": [
       "                         speaker sex  age\n",
       "file                                     \n",
       "Natalie/NB_1_m_33.wav  NB_1_m_33   m   33\n",
       "Natalie/NB_2_w_67.wav  NB_2_f_67   f   67"
      ]
     },
     "execution_count": 12,
     "metadata": {},
     "output_type": "execute_result"
    }
   ],
   "source": [
    "df_sample.head(2)"
   ]
  },
  {
   "cell_type": "code",
   "execution_count": 13,
   "metadata": {},
   "outputs": [],
   "source": [
    "df_sample = df_sample.rename(columns={'sex':'gender'})\n",
    "df_sample.to_csv('../age_files/ml_age_df.csv')"
   ]
  },
  {
   "cell_type": "code",
   "execution_count": 14,
   "metadata": {},
   "outputs": [],
   "source": [
    "# Add a column for duration in seconds\n",
    "def calc_dur(x):\n",
    "    starts = x[1]\n",
    "    ends = x[2]\n",
    "    return (ends - starts).total_seconds()\n",
    "# add the root folder for audio samples\n",
    "root = '/home/felix/data/TU/WS2022/ML/age_files/'\n",
    "df_sample = df_sample.set_index(df_sample.index.to_series().map(lambda x:root+x))\n",
    "# add start and end times\n",
    "df_sample = df_sample.set_index(audformat.utils.to_segmented_index(df_sample.index, allow_nat=False))\n",
    "# compute duration\n",
    "df_sample['duration'] = df_sample.index.to_series().map(lambda x:calc_dur(x)) "
   ]
  },
  {
   "cell_type": "code",
   "execution_count": 15,
   "metadata": {},
   "outputs": [
    {
     "data": {
      "text/html": [
       "<div>\n",
       "<style scoped>\n",
       "    .dataframe tbody tr th:only-of-type {\n",
       "        vertical-align: middle;\n",
       "    }\n",
       "\n",
       "    .dataframe tbody tr th {\n",
       "        vertical-align: top;\n",
       "    }\n",
       "\n",
       "    .dataframe thead th {\n",
       "        text-align: right;\n",
       "    }\n",
       "</style>\n",
       "<table border=\"1\" class=\"dataframe\">\n",
       "  <thead>\n",
       "    <tr style=\"text-align: right;\">\n",
       "      <th></th>\n",
       "      <th></th>\n",
       "      <th></th>\n",
       "      <th>speaker</th>\n",
       "      <th>gender</th>\n",
       "      <th>age</th>\n",
       "      <th>duration</th>\n",
       "    </tr>\n",
       "    <tr>\n",
       "      <th>file</th>\n",
       "      <th>start</th>\n",
       "      <th>end</th>\n",
       "      <th></th>\n",
       "      <th></th>\n",
       "      <th></th>\n",
       "      <th></th>\n",
       "    </tr>\n",
       "  </thead>\n",
       "  <tbody>\n",
       "    <tr>\n",
       "      <th rowspan=\"5\" valign=\"top\">/home/felix/data/TU/WS2022/ML/age_files/Natali...</th>\n",
       "      <th rowspan=\"5\" valign=\"top\">0 days</th>\n",
       "      <th>0 days 00:01:14.492250</th>\n",
       "      <td>NB_1_m_33</td>\n",
       "      <td>m</td>\n",
       "      <td>33</td>\n",
       "      <td>74.49225</td>\n",
       "    </tr>\n",
       "    <tr>\n",
       "      <th>0 days 00:01:10.339500</th>\n",
       "      <td>NB_2_f_67</td>\n",
       "      <td>f</td>\n",
       "      <td>67</td>\n",
       "      <td>70.33950</td>\n",
       "    </tr>\n",
       "    <tr>\n",
       "      <th>0 days 00:00:42.519750</th>\n",
       "      <td>NB_3_f_41</td>\n",
       "      <td>f</td>\n",
       "      <td>41</td>\n",
       "      <td>42.51975</td>\n",
       "    </tr>\n",
       "    <tr>\n",
       "      <th>0 days 00:01:27.354750</th>\n",
       "      <td>NB_4_m_61</td>\n",
       "      <td>m</td>\n",
       "      <td>61</td>\n",
       "      <td>87.35475</td>\n",
       "    </tr>\n",
       "    <tr>\n",
       "      <th>0 days 00:01:18.718500</th>\n",
       "      <td>NB_5_m_59</td>\n",
       "      <td>m</td>\n",
       "      <td>59</td>\n",
       "      <td>78.71850</td>\n",
       "    </tr>\n",
       "  </tbody>\n",
       "</table>\n",
       "</div>"
      ],
      "text/plain": [
       "                                                                                   speaker  \\\n",
       "file                                              start  end                                 \n",
       "/home/felix/data/TU/WS2022/ML/age_files/Natali... 0 days 0 days 00:01:14.492250  NB_1_m_33   \n",
       "                                                         0 days 00:01:10.339500  NB_2_f_67   \n",
       "                                                         0 days 00:00:42.519750  NB_3_f_41   \n",
       "                                                         0 days 00:01:27.354750  NB_4_m_61   \n",
       "                                                         0 days 00:01:18.718500  NB_5_m_59   \n",
       "\n",
       "                                                                                gender  \\\n",
       "file                                              start  end                             \n",
       "/home/felix/data/TU/WS2022/ML/age_files/Natali... 0 days 0 days 00:01:14.492250      m   \n",
       "                                                         0 days 00:01:10.339500      f   \n",
       "                                                         0 days 00:00:42.519750      f   \n",
       "                                                         0 days 00:01:27.354750      m   \n",
       "                                                         0 days 00:01:18.718500      m   \n",
       "\n",
       "                                                                                 age  \\\n",
       "file                                              start  end                           \n",
       "/home/felix/data/TU/WS2022/ML/age_files/Natali... 0 days 0 days 00:01:14.492250   33   \n",
       "                                                         0 days 00:01:10.339500   67   \n",
       "                                                         0 days 00:00:42.519750   41   \n",
       "                                                         0 days 00:01:27.354750   61   \n",
       "                                                         0 days 00:01:18.718500   59   \n",
       "\n",
       "                                                                                 duration  \n",
       "file                                              start  end                               \n",
       "/home/felix/data/TU/WS2022/ML/age_files/Natali... 0 days 0 days 00:01:14.492250  74.49225  \n",
       "                                                         0 days 00:01:10.339500  70.33950  \n",
       "                                                         0 days 00:00:42.519750  42.51975  \n",
       "                                                         0 days 00:01:27.354750  87.35475  \n",
       "                                                         0 days 00:01:18.718500  78.71850  "
      ]
     },
     "execution_count": 15,
     "metadata": {},
     "output_type": "execute_result"
    }
   ],
   "source": [
    "df_sample.head()"
   ]
  },
  {
   "cell_type": "code",
   "execution_count": 16,
   "metadata": {},
   "outputs": [
    {
     "data": {
      "text/plain": [
       "(79, 4)"
      ]
     },
     "execution_count": 16,
     "metadata": {},
     "output_type": "execute_result"
    }
   ],
   "source": [
    "df_sample.shape"
   ]
  },
  {
   "cell_type": "code",
   "execution_count": 17,
   "metadata": {},
   "outputs": [
    {
     "data": {
      "text/plain": [
       "<AxesSubplot: ylabel='Frequency'>"
      ]
     },
     "execution_count": 17,
     "metadata": {},
     "output_type": "execute_result"
    },
    {
     "data": {
      "image/png": "[encoded data removed]",
      "text/plain": [
       "<Figure size 640x480 with 1 Axes>"
      ]
     },
     "metadata": {},
     "output_type": "display_data"
    }
   ],
   "source": [
    "df_sample.age.plot(kind='hist')"
   ]
  },
  {
   "cell_type": "code",
   "execution_count": 18,
   "metadata": {},
   "outputs": [
    {
     "data": {
      "text/plain": [
       "<AxesSubplot: ylabel='Frequency'>"
      ]
     },
     "execution_count": 18,
     "metadata": {},
     "output_type": "execute_result"
    },
    {
     "data": {
      "image/png": "[encoded data removed]",
      "text/plain": [
       "<Figure size 640x480 with 1 Axes>"
      ]
     },
     "metadata": {},
     "output_type": "display_data"
    }
   ],
   "source": [
    "df_sample.duration.plot(kind='hist')"
   ]
  },
  {
   "cell_type": "code",
   "execution_count": 19,
   "metadata": {},
   "outputs": [
    {
     "data": {
      "text/plain": [
       "('/home/felix/data/TU/WS2022/ML/age_files/hanna/hs12_30.wav',\n",
       " Timedelta('0 days 00:00:00'),\n",
       " Timedelta('0 days 00:02:04.945375'))"
      ]
     },
     "execution_count": 19,
     "metadata": {},
     "output_type": "execute_result"
    }
   ],
   "source": [
    "df_sample.duration.idxmax()"
   ]
  },
  {
   "cell_type": "code",
   "execution_count": 20,
   "metadata": {},
   "outputs": [
    {
     "data": {
      "text/plain": [
       "('/home/felix/data/TU/WS2022/ML/age_files/felix/004_f_45.wav',\n",
       " Timedelta('0 days 00:00:00'),\n",
       " Timedelta('0 days 00:00:02.078187'))"
      ]
     },
     "execution_count": 20,
     "metadata": {},
     "output_type": "execute_result"
    }
   ],
   "source": [
    "df_sample.duration.idxmin()"
   ]
  },
  {
   "cell_type": "code",
   "execution_count": 21,
   "metadata": {},
   "outputs": [
    {
     "name": "stderr",
     "output_type": "stream",
     "text": [
      "2023-01-18 14:52:35.762333: I tensorflow/core/platform/cpu_feature_guard.cc:193] This TensorFlow binary is optimized with oneAPI Deep Neural Network Library (oneDNN) to use the following CPU instructions in performance-critical operations:  AVX2 FMA\n",
      "To enable them in other operations, rebuild TensorFlow with the appropriate compiler flags.\n",
      "2023-01-18 14:52:36.265030: W tensorflow/compiler/xla/stream_executor/platform/default/dso_loader.cc:64] Could not load dynamic library 'libcudart.so.11.0'; dlerror: libcudart.so.11.0: cannot open shared object file: No such file or directory\n",
      "2023-01-18 14:52:36.265070: I tensorflow/compiler/xla/stream_executor/cuda/cudart_stub.cc:29] Ignore above cudart dlerror if you do not have a GPU set up on your machine.\n",
      "2023-01-18 14:52:38.285411: W tensorflow/compiler/xla/stream_executor/platform/default/dso_loader.cc:64] Could not load dynamic library 'libnvinfer.so.7'; dlerror: libnvinfer.so.7: cannot open shared object file: No such file or directory\n",
      "2023-01-18 14:52:38.285547: W tensorflow/compiler/xla/stream_executor/platform/default/dso_loader.cc:64] Could not load dynamic library 'libnvinfer_plugin.so.7'; dlerror: libnvinfer_plugin.so.7: cannot open shared object file: No such file or directory\n",
      "2023-01-18 14:52:38.285557: W tensorflow/compiler/tf2tensorrt/utils/py_utils.cc:38] TF-TRT Warning: Cannot dlopen some TensorRT libraries. If you would like to use Nvidia GPU with TensorRT, please make sure the missing libraries mentioned above are installed properly.\n",
      "2023-01-18 14:52:40.378137: W tensorflow/compiler/xla/stream_executor/platform/default/dso_loader.cc:64] Could not load dynamic library 'libcuda.so.1'; dlerror: libcuda.so.1: cannot open shared object file: No such file or directory\n",
      "2023-01-18 14:52:40.378450: W tensorflow/compiler/xla/stream_executor/cuda/cuda_driver.cc:265] failed call to cuInit: UNKNOWN ERROR (303)\n",
      "2023-01-18 14:52:40.378482: I tensorflow/compiler/xla/stream_executor/cuda/cuda_diagnostics.cc:156] kernel driver does not appear to be running on this host (t14s): /proc/driver/nvidia/version does not exist\n",
      "2023-01-18 14:52:40.379534: I tensorflow/core/platform/cpu_feature_guard.cc:193] This TensorFlow binary is optimized with oneAPI Deep Neural Network Library (oneDNN) to use the following CPU instructions in performance-critical operations:  AVX2 FMA\n",
      "To enable them in other operations, rebuild TensorFlow with the appropriate compiler flags.\n"
     ]
    }
   ],
   "source": [
    "# segment the data\n",
    "from inaSpeechSegmenter import Segmenter\n",
    "from inaSpeechSegmenter.export_funcs import seg2csv, seg2textgrid\n",
    "from audformat.utils import to_filewise_index\n",
    "from audformat import segmented_index\n",
    "seg = Segmenter()"
   ]
  },
  {
   "cell_type": "code",
   "execution_count": null,
   "metadata": {},
   "outputs": [],
   "source": [
    "df_sample.head(1)"
   ]
  },
  {
   "cell_type": "code",
   "execution_count": 22,
   "metadata": {},
   "outputs": [
    {
     "name": "stdout",
     "output_type": "stream",
     "text": [
      "segmenting /home/felix/data/TU/WS2022/ML/age_files/Natalie/NB_1_m_33.wav\n",
      "103/103 [==============================] - 3s 18ms/step\n",
      "14/14 [==============================] - 1s 46ms/step\n",
      "segmenting /home/felix/data/TU/WS2022/ML/age_files/Natalie/NB_2_w_67.wav\n",
      "106/106 [==============================] - 2s 16ms/step\n",
      "71/71 [==============================] - 3s 48ms/step\n",
      "segmenting /home/felix/data/TU/WS2022/ML/age_files/Natalie/NB_3_w_41.wav\n",
      "64/64 [==============================] - 1s 14ms/step\n",
      "47/47 [==============================] - 2s 43ms/step\n",
      "segmenting /home/felix/data/TU/WS2022/ML/age_files/Natalie/NB_4_m_61.wav\n",
      "129/129 [==============================] - 2s 14ms/step\n",
      "segmenting /home/felix/data/TU/WS2022/ML/age_files/Natalie/NB_5_m_59.wav\n",
      "112/112 [==============================] - 2s 14ms/step\n",
      "segmenting /home/felix/data/TU/WS2022/ML/age_files/Natalie/NB_6_w_60.wav\n",
      "126/126 [==============================] - 2s 14ms/step\n",
      "34/34 [==============================] - 2s 47ms/step\n",
      "segmenting /home/felix/data/TU/WS2022/ML/age_files/Natalie/NB_7_w_26.wav\n",
      "59/59 [==============================] - 1s 13ms/step\n",
      "segmenting /home/felix/data/TU/WS2022/ML/age_files/Natalie/NB_8_w_30.wav\n",
      "88/88 [==============================] - 1s 13ms/step\n",
      "44/44 [==============================] - 2s 44ms/step\n",
      "segmenting /home/felix/data/TU/WS2022/ML/age_files/Natalie/NB_9_m_33.wav\n",
      "57/57 [==============================] - 1s 14ms/step\n",
      "7/7 [==============================] - 0s 42ms/step\n",
      "segmenting /home/felix/data/TU/WS2022/ML/age_files/Natalie/NB_10_m_39.wav\n",
      "50/50 [==============================] - 1s 14ms/step\n",
      "24/24 [==============================] - 1s 45ms/step\n",
      "segmenting /home/felix/data/TU/WS2022/ML/age_files/Natalie/NB_11_m_41.wav\n",
      "111/111 [==============================] - 2s 14ms/step\n",
      "3/3 [==============================] - 0s 32ms/step\n",
      "segmenting /home/felix/data/TU/WS2022/ML/age_files/Natalie/NB_12_w_42.wav\n",
      "54/54 [==============================] - 1s 14ms/step\n",
      "9/9 [==============================] - 0s 44ms/step\n",
      "segmenting /home/felix/data/TU/WS2022/ML/age_files/Natalie/NB_13_m_47.wav\n",
      "51/51 [==============================] - 1s 13ms/step\n",
      "segmenting /home/felix/data/TU/WS2022/ML/age_files/Natalie/NB_14_m_49.wav\n",
      "83/83 [==============================] - 1s 14ms/step\n",
      "segmenting /home/felix/data/TU/WS2022/ML/age_files/Natalie/NB_15_w_56.wav\n",
      "87/87 [==============================] - 1s 14ms/step\n",
      "48/48 [==============================] - 2s 44ms/step\n",
      "segmenting /home/felix/data/TU/WS2022/ML/age_files/Natalie/NB_16_m_59.wav\n",
      "66/66 [==============================] - 1s 13ms/step\n",
      "21/21 [==============================] - 1s 44ms/step\n",
      "segmenting /home/felix/data/TU/WS2022/ML/age_files/magdalena/mm01_m_29.wav\n",
      " 5/46 [==>...........................] - ETA: 0s"
     ]
    },
    {
     "name": "stderr",
     "output_type": "stream",
     "text": [
      "/home/felix/data/TU/WS2022/ML/venv/lib/python3.8/site-packages/inaSpeechSegmenter/segmenter.py:61: RuntimeWarning: invalid value encountered in subtract\n",
      "  data = (data - np.mean(data, axis=1).reshape((len(data), 1))) / np.std(data, axis=1).reshape((len(data), 1))\n",
      "/home/felix/data/TU/WS2022/ML/venv/lib/python3.8/site-packages/numpy/core/_methods.py:236: RuntimeWarning: invalid value encountered in subtract\n",
      "  x = asanyarray(arr - arrmean)\n"
     ]
    },
    {
     "name": "stdout",
     "output_type": "stream",
     "text": [
      "46/46 [==============================] - 1s 13ms/step\n",
      "46/46 [==============================] - 2s 43ms/step\n",
      "segmenting /home/felix/data/TU/WS2022/ML/age_files/magdalena/mm02_f_31.wav\n",
      "46/46 [==============================] - 1s 13ms/step\n",
      "46/46 [==============================] - 2s 43ms/step\n",
      "segmenting /home/felix/data/TU/WS2022/ML/age_files/magdalena/mm03_f_82.wav\n",
      " 5/22 [=====>........................] - ETA: 0s"
     ]
    },
    {
     "name": "stderr",
     "output_type": "stream",
     "text": [
      "/home/felix/data/TU/WS2022/ML/venv/lib/python3.8/site-packages/inaSpeechSegmenter/segmenter.py:61: RuntimeWarning: invalid value encountered in subtract\n",
      "  data = (data - np.mean(data, axis=1).reshape((len(data), 1))) / np.std(data, axis=1).reshape((len(data), 1))\n",
      "/home/felix/data/TU/WS2022/ML/venv/lib/python3.8/site-packages/numpy/core/_methods.py:236: RuntimeWarning: invalid value encountered in subtract\n",
      "  x = asanyarray(arr - arrmean)\n"
     ]
    },
    {
     "name": "stdout",
     "output_type": "stream",
     "text": [
      "22/22 [==============================] - 0s 14ms/step\n",
      "22/22 [==============================] - 1s 44ms/step\n",
      "segmenting /home/felix/data/TU/WS2022/ML/age_files/magdalena/mm04_m_60.wav\n",
      "60/60 [==============================] - 1s 13ms/step\n",
      "60/60 [==============================] - 3s 43ms/step\n",
      "segmenting /home/felix/data/TU/WS2022/ML/age_files/magdalena/mm05_f_58.wav\n",
      "48/48 [==============================] - 1s 13ms/step\n",
      "48/48 [==============================] - 2s 44ms/step\n",
      "segmenting /home/felix/data/TU/WS2022/ML/age_files/magdalena/mm06_m_14.wav\n",
      "27/27 [==============================] - 0s 13ms/step\n",
      "27/27 [==============================] - 1s 44ms/step\n",
      "segmenting /home/felix/data/TU/WS2022/ML/age_files/magdalena/mm06_m_34.wav\n",
      "27/27 [==============================] - 0s 14ms/step\n",
      "27/27 [==============================] - 1s 44ms/step\n",
      "segmenting /home/felix/data/TU/WS2022/ML/age_files/magdalena/mm06_m_57.wav\n",
      "61/61 [==============================] - 1s 13ms/step\n",
      "61/61 [==============================] - 3s 44ms/step\n",
      "segmenting /home/felix/data/TU/WS2022/ML/age_files/magdalena/mm07_m_32.wav\n",
      "37/37 [==============================] - 1s 13ms/step\n",
      "37/37 [==============================] - 2s 44ms/step\n",
      "segmenting /home/felix/data/TU/WS2022/ML/age_files/magdalena/mm08_f_31.wav\n",
      "39/39 [==============================] - 1s 13ms/step\n",
      "39/39 [==============================] - 2s 44ms/step\n",
      "segmenting /home/felix/data/TU/WS2022/ML/age_files/magdalena/mm09_f_23.wav\n",
      "42/42 [==============================] - 1s 13ms/step\n",
      "41/41 [==============================] - 2s 43ms/step\n",
      "segmenting /home/felix/data/TU/WS2022/ML/age_files/magdalena/mm10_m_33.wav\n",
      "41/41 [==============================] - 1s 13ms/step\n",
      "41/41 [==============================] - 2s 43ms/step\n",
      "segmenting /home/felix/data/TU/WS2022/ML/age_files/magdalena/mm11_m_39.wav\n",
      "64/64 [==============================] - 1s 13ms/step\n",
      "64/64 [==============================] - 3s 43ms/step\n",
      "segmenting /home/felix/data/TU/WS2022/ML/age_files/magdalena/mm12_f_29.wav\n",
      "37/37 [==============================] - 1s 13ms/step\n",
      "37/37 [==============================] - 2s 44ms/step\n",
      "segmenting /home/felix/data/TU/WS2022/ML/age_files/magdalena/mm13_f_53.wav\n",
      "59/59 [==============================] - 1s 13ms/step\n",
      "59/59 [==============================] - 3s 44ms/step\n",
      "segmenting /home/felix/data/TU/WS2022/ML/age_files/magdalena/mm14_m_53.wav\n",
      "37/37 [==============================] - 1s 13ms/step\n",
      "37/37 [==============================] - 2s 44ms/step\n",
      "segmenting /home/felix/data/TU/WS2022/ML/age_files/magdalena/mm15_m_19.wav\n",
      "40/40 [==============================] - 1s 13ms/step\n",
      "40/40 [==============================] - 2s 44ms/step\n",
      "segmenting /home/felix/data/TU/WS2022/ML/age_files/magdalena/mm16_f_27.wav\n",
      "36/36 [==============================] - 1s 13ms/step\n",
      "36/36 [==============================] - 2s 44ms/step\n",
      "segmenting /home/felix/data/TU/WS2022/ML/age_files/magdalena/mm17_m_26.wav\n",
      "20/20 [==============================] - 0s 14ms/step\n",
      "20/20 [==============================] - 1s 45ms/step\n",
      "segmenting /home/felix/data/TU/WS2022/ML/age_files/magdalena/mm18_m_28.wav\n",
      "42/42 [==============================] - 1s 13ms/step\n",
      "42/42 [==============================] - 2s 44ms/step\n",
      "segmenting /home/felix/data/TU/WS2022/ML/age_files/magdalena/mm19_f_26.wav\n",
      "30/30 [==============================] - 0s 14ms/step\n",
      "30/30 [==============================] - 1s 45ms/step\n",
      "segmenting /home/felix/data/TU/WS2022/ML/age_files/hanna/hs12_30.wav\n",
      "193/193 [==============================] - 3s 13ms/step\n",
      "4/4 [==============================] - 0s 39ms/step\n",
      "segmenting /home/felix/data/TU/WS2022/ML/age_files/hanna/hs13_31.wav\n",
      "134/134 [==============================] - 2s 14ms/step\n",
      "27/27 [==============================] - 1s 46ms/step\n",
      "segmenting /home/felix/data/TU/WS2022/ML/age_files/hanna/hs14_32.wav\n",
      "189/189 [==============================] - 3s 14ms/step\n",
      "74/74 [==============================] - 3s 45ms/step\n",
      "segmenting /home/felix/data/TU/WS2022/ML/age_files/hanna/hs15_76.wav\n",
      "128/128 [==============================] - 2s 13ms/step\n",
      "segmenting /home/felix/data/TU/WS2022/ML/age_files/hanna/hs16_16.wav\n",
      "124/124 [==============================] - 2s 14ms/step\n",
      "95/95 [==============================] - 4s 44ms/step\n",
      "segmenting /home/felix/data/TU/WS2022/ML/age_files/hanna/hs17_14.wav\n",
      "122/122 [==============================] - 2s 13ms/step\n",
      "segmenting /home/felix/data/TU/WS2022/ML/age_files/hanna/hs18_72.wav\n",
      "139/139 [==============================] - 2s 14ms/step\n",
      "14/14 [==============================] - 1s 44ms/step\n",
      "segmenting /home/felix/data/TU/WS2022/ML/age_files/hanna/hs19_69.wav\n",
      "122/122 [==============================] - 2s 13ms/step\n",
      "segmenting /home/felix/data/TU/WS2022/ML/age_files/hanna/hs2_44.wav\n",
      "134/134 [==============================] - 3s 26ms/step\n",
      "22/22 [==============================] - 1s 44ms/step\n",
      "segmenting /home/felix/data/TU/WS2022/ML/age_files/hanna/hs3_40.wav\n",
      "133/133 [==============================] - 2s 13ms/step\n",
      "87/87 [==============================] - 4s 46ms/step\n",
      "segmenting /home/felix/data/TU/WS2022/ML/age_files/hanna/hs4_67.wav\n",
      "140/140 [==============================] - 2s 14ms/step\n",
      "segmenting /home/felix/data/TU/WS2022/ML/age_files/hanna/hs5_25.wav\n",
      "125/125 [==============================] - 2s 13ms/step\n",
      "segmenting /home/felix/data/TU/WS2022/ML/age_files/hanna/hs6_58.wav\n",
      "135/135 [==============================] - 2s 14ms/step\n",
      "83/83 [==============================] - 4s 44ms/step\n",
      "segmenting /home/felix/data/TU/WS2022/ML/age_files/hanna/hs7_65.wav\n",
      "135/135 [==============================] - 2s 12ms/step\n",
      "segmenting /home/felix/data/TU/WS2022/ML/age_files/hanna/hs8_72.wav\n",
      "127/127 [==============================] - 2s 13ms/step\n",
      "segmenting /home/felix/data/TU/WS2022/ML/age_files/hanna/hs9_81.wav\n",
      "132/132 [==============================] - 2s 13ms/step\n",
      "segmenting /home/felix/data/TU/WS2022/ML/age_files/felix/001_f_09.wav\n",
      "5/5 [==============================] - 0s 15ms/step\n",
      "5/5 [==============================] - 0s 38ms/step\n",
      "segmenting /home/felix/data/TU/WS2022/ML/age_files/felix/002_f_45.wav\n",
      "7/7 [==============================] - 0s 18ms/step\n",
      "7/7 [==============================] - 0s 37ms/step\n",
      "segmenting /home/felix/data/TU/WS2022/ML/age_files/felix/003_M_45.wav\n",
      "5/5 [==============================] - 0s 15ms/step\n",
      "5/5 [==============================] - 0s 41ms/step\n",
      "segmenting /home/felix/data/TU/WS2022/ML/age_files/felix/004_f_45.wav\n",
      "4/4 [==============================] - 0s 10ms/step\n",
      "4/4 [==============================] - 0s 32ms/step\n",
      "segmenting /home/felix/data/TU/WS2022/ML/age_files/felix/005_m_50.wav\n",
      "9/9 [==============================] - 0s 14ms/step\n",
      "9/9 [==============================] - 0s 42ms/step\n",
      "segmenting /home/felix/data/TU/WS2022/ML/age_files/felix/006_m_50.wav\n",
      "12/12 [==============================] - 0s 12ms/step\n",
      "12/12 [==============================] - 0s 39ms/step\n",
      "segmenting /home/felix/data/TU/WS2022/ML/age_files/chuang/HH_f_3.wav\n",
      "59/59 [==============================] - 1s 12ms/step\n",
      "segmenting /home/felix/data/TU/WS2022/ML/age_files/chuang/HH_f_15_2.wav\n",
      "93/93 [==============================] - 1s 13ms/step\n",
      "93/93 [==============================] - 4s 48ms/step\n",
      "segmenting /home/felix/data/TU/WS2022/ML/age_files/chuang/HH_f_15.wav\n",
      "33/33 [==============================] - 0s 14ms/step\n",
      "33/33 [==============================] - 2s 46ms/step\n",
      "segmenting /home/felix/data/TU/WS2022/ML/age_files/chuang/HH_f_19.wav\n",
      "92/92 [==============================] - 1s 13ms/step\n",
      "89/89 [==============================] - 4s 44ms/step\n",
      "segmenting /home/felix/data/TU/WS2022/ML/age_files/chuang/HH_f_24.wav\n",
      "65/65 [==============================] - 1s 13ms/step\n",
      "65/65 [==============================] - 3s 47ms/step\n",
      "segmenting /home/felix/data/TU/WS2022/ML/age_files/chuang/HH_f_26.wav\n",
      "87/87 [==============================] - 1s 14ms/step\n",
      "87/87 [==============================] - 4s 45ms/step\n",
      "segmenting /home/felix/data/TU/WS2022/ML/age_files/chuang/HH_f_27.wav\n",
      "79/79 [==============================] - 1s 14ms/step\n",
      "79/79 [==============================] - 4s 44ms/step\n",
      "segmenting /home/felix/data/TU/WS2022/ML/age_files/chuang/HH_f_32.wav\n",
      "61/61 [==============================] - 1s 13ms/step\n",
      "58/58 [==============================] - 3s 44ms/step\n",
      "segmenting /home/felix/data/TU/WS2022/ML/age_files/chuang/HH_f_40.wav\n",
      "94/94 [==============================] - 1s 13ms/step\n",
      "70/70 [==============================] - 3s 44ms/step\n",
      "segmenting /home/felix/data/TU/WS2022/ML/age_files/chuang/HH_f_50.wav\n",
      "71/71 [==============================] - 1s 14ms/step\n",
      "71/71 [==============================] - 3s 45ms/step\n",
      "segmenting /home/felix/data/TU/WS2022/ML/age_files/chuang/HH_f_78.wav\n",
      "94/94 [==============================] - 1s 13ms/step\n",
      "94/94 [==============================] - 4s 43ms/step\n",
      "segmenting /home/felix/data/TU/WS2022/ML/age_files/chuang/HH_m_19.wav\n",
      "92/92 [==============================] - 1s 13ms/step\n",
      "92/92 [==============================] - 4s 42ms/step\n",
      "segmenting /home/felix/data/TU/WS2022/ML/age_files/chuang/HH_m_23_1.wav\n",
      "75/75 [==============================] - 1s 12ms/step\n",
      "75/75 [==============================] - 3s 42ms/step\n",
      "segmenting /home/felix/data/TU/WS2022/ML/age_files/chuang/HH_m_23_2.wav\n",
      "66/66 [==============================] - 1s 12ms/step\n",
      "66/66 [==============================] - 3s 41ms/step\n",
      "segmenting /home/felix/data/TU/WS2022/ML/age_files/chuang/HH_m_24_2.wav\n",
      "78/78 [==============================] - 1s 12ms/step\n",
      "78/78 [==============================] - 3s 44ms/step\n",
      "segmenting /home/felix/data/TU/WS2022/ML/age_files/chuang/HH_m_24.wav\n",
      "28/28 [==============================] - 0s 13ms/step\n",
      "28/28 [==============================] - 1s 44ms/step\n",
      "segmenting /home/felix/data/TU/WS2022/ML/age_files/chuang/HH_m_25.wav\n",
      "81/81 [==============================] - 1s 13ms/step\n",
      "81/81 [==============================] - 3s 43ms/step\n",
      "segmenting /home/felix/data/TU/WS2022/ML/age_files/chuang/HH_m_35.wav\n",
      "85/85 [==============================] - 1s 13ms/step\n",
      "85/85 [==============================] - 4s 43ms/step\n",
      "segmenting /home/felix/data/TU/WS2022/ML/age_files/chuang/HH_m_56.wav\n",
      "48/48 [==============================] - 1s 13ms/step\n",
      "48/48 [==============================] - 2s 42ms/step\n",
      "segmenting /home/felix/data/TU/WS2022/ML/age_files/chuang/HH_m_75.wav\n",
      "92/92 [==============================] - 1s 13ms/step\n",
      "88/88 [==============================] - 4s 44ms/step\n"
     ]
    }
   ],
   "source": [
    "import warnings\n",
    "warnings.simplefilter(action='ignore', category=FutureWarning)\n",
    "\n",
    "def get_segmentation(file):\n",
    "    print(f'segmenting {file[0]}')\n",
    "    segmentation = seg(file[0])\n",
    "    files, starts, ends = [], [], []\n",
    "    for entry in segmentation:\n",
    "        kind = entry[0]\n",
    "        start = entry[1]\n",
    "        end = entry[2]\n",
    "        if kind == 'female' or kind == 'male':\n",
    "            #print (f'{file}, {start}, {end}')\n",
    "            files.append(file[0])\n",
    "            starts.append(start)\n",
    "            ends.append(end)\n",
    "    seg_index = segmented_index(files, starts, ends)\n",
    "    return seg_index\n",
    "\n",
    "def segment_dataframe(df):\n",
    "    dfs = []\n",
    "    for file, values in df.iterrows():\n",
    "        index = get_segmentation(file)\n",
    "        dfs.append(\n",
    "            pd.DataFrame(\n",
    "                values.to_dict(),\n",
    "                index,\n",
    "            )\n",
    "        )\n",
    "    return audformat.utils.concat(dfs)\n",
    "\n",
    "df_seg = segment_dataframe(df_sample)\n"
   ]
  },
  {
   "cell_type": "code",
   "execution_count": 23,
   "metadata": {},
   "outputs": [],
   "source": [
    "# Add a column for duration in seconds\n",
    "df_seg['duration'] = df_seg.index.to_series().map(lambda x:calc_dur(x)) "
   ]
  },
  {
   "cell_type": "code",
   "execution_count": 24,
   "metadata": {},
   "outputs": [
    {
     "data": {
      "text/html": [
       "<div>\n",
       "<style scoped>\n",
       "    .dataframe tbody tr th:only-of-type {\n",
       "        vertical-align: middle;\n",
       "    }\n",
       "\n",
       "    .dataframe tbody tr th {\n",
       "        vertical-align: top;\n",
       "    }\n",
       "\n",
       "    .dataframe thead th {\n",
       "        text-align: right;\n",
       "    }\n",
       "</style>\n",
       "<table border=\"1\" class=\"dataframe\">\n",
       "  <thead>\n",
       "    <tr style=\"text-align: right;\">\n",
       "      <th></th>\n",
       "      <th></th>\n",
       "      <th></th>\n",
       "      <th>speaker</th>\n",
       "      <th>gender</th>\n",
       "      <th>age</th>\n",
       "      <th>duration</th>\n",
       "    </tr>\n",
       "    <tr>\n",
       "      <th>file</th>\n",
       "      <th>start</th>\n",
       "      <th>end</th>\n",
       "      <th></th>\n",
       "      <th></th>\n",
       "      <th></th>\n",
       "      <th></th>\n",
       "    </tr>\n",
       "  </thead>\n",
       "  <tbody>\n",
       "    <tr>\n",
       "      <th rowspan=\"5\" valign=\"top\">/home/felix/data/TU/WS2022/ML/age_files/Natali...</th>\n",
       "      <th>0 days 00:00:03.440000</th>\n",
       "      <th>0 days 00:00:05.740000</th>\n",
       "      <td>NB_1_m_33</td>\n",
       "      <td>m</td>\n",
       "      <td>33</td>\n",
       "      <td>2.30</td>\n",
       "    </tr>\n",
       "    <tr>\n",
       "      <th>0 days 00:00:07.880000</th>\n",
       "      <th>0 days 00:00:13.240000</th>\n",
       "      <td>NB_1_m_33</td>\n",
       "      <td>m</td>\n",
       "      <td>33</td>\n",
       "      <td>5.36</td>\n",
       "    </tr>\n",
       "    <tr>\n",
       "      <th>0 days 00:01:10.660000</th>\n",
       "      <th>0 days 00:01:11.640000</th>\n",
       "      <td>NB_1_m_33</td>\n",
       "      <td>m</td>\n",
       "      <td>33</td>\n",
       "      <td>0.98</td>\n",
       "    </tr>\n",
       "    <tr>\n",
       "      <th>0 days 00:00:01.940000</th>\n",
       "      <th>0 days 00:00:07.360000</th>\n",
       "      <td>NB_2_f_67</td>\n",
       "      <td>f</td>\n",
       "      <td>67</td>\n",
       "      <td>5.42</td>\n",
       "    </tr>\n",
       "    <tr>\n",
       "      <th>0 days 00:00:15.220000</th>\n",
       "      <th>0 days 00:00:23.860000</th>\n",
       "      <td>NB_2_f_67</td>\n",
       "      <td>f</td>\n",
       "      <td>67</td>\n",
       "      <td>8.64</td>\n",
       "    </tr>\n",
       "  </tbody>\n",
       "</table>\n",
       "</div>"
      ],
      "text/plain": [
       "                                                                                                   speaker  \\\n",
       "file                                              start                  end                                 \n",
       "/home/felix/data/TU/WS2022/ML/age_files/Natali... 0 days 00:00:03.440000 0 days 00:00:05.740000  NB_1_m_33   \n",
       "                                                  0 days 00:00:07.880000 0 days 00:00:13.240000  NB_1_m_33   \n",
       "                                                  0 days 00:01:10.660000 0 days 00:01:11.640000  NB_1_m_33   \n",
       "                                                  0 days 00:00:01.940000 0 days 00:00:07.360000  NB_2_f_67   \n",
       "                                                  0 days 00:00:15.220000 0 days 00:00:23.860000  NB_2_f_67   \n",
       "\n",
       "                                                                                                gender  \\\n",
       "file                                              start                  end                             \n",
       "/home/felix/data/TU/WS2022/ML/age_files/Natali... 0 days 00:00:03.440000 0 days 00:00:05.740000      m   \n",
       "                                                  0 days 00:00:07.880000 0 days 00:00:13.240000      m   \n",
       "                                                  0 days 00:01:10.660000 0 days 00:01:11.640000      m   \n",
       "                                                  0 days 00:00:01.940000 0 days 00:00:07.360000      f   \n",
       "                                                  0 days 00:00:15.220000 0 days 00:00:23.860000      f   \n",
       "\n",
       "                                                                                                 age  \\\n",
       "file                                              start                  end                           \n",
       "/home/felix/data/TU/WS2022/ML/age_files/Natali... 0 days 00:00:03.440000 0 days 00:00:05.740000   33   \n",
       "                                                  0 days 00:00:07.880000 0 days 00:00:13.240000   33   \n",
       "                                                  0 days 00:01:10.660000 0 days 00:01:11.640000   33   \n",
       "                                                  0 days 00:00:01.940000 0 days 00:00:07.360000   67   \n",
       "                                                  0 days 00:00:15.220000 0 days 00:00:23.860000   67   \n",
       "\n",
       "                                                                                                 duration  \n",
       "file                                              start                  end                               \n",
       "/home/felix/data/TU/WS2022/ML/age_files/Natali... 0 days 00:00:03.440000 0 days 00:00:05.740000      2.30  \n",
       "                                                  0 days 00:00:07.880000 0 days 00:00:13.240000      5.36  \n",
       "                                                  0 days 00:01:10.660000 0 days 00:01:11.640000      0.98  \n",
       "                                                  0 days 00:00:01.940000 0 days 00:00:07.360000      5.42  \n",
       "                                                  0 days 00:00:15.220000 0 days 00:00:23.860000      8.64  "
      ]
     },
     "execution_count": 24,
     "metadata": {},
     "output_type": "execute_result"
    }
   ],
   "source": [
    "df_seg.head()"
   ]
  },
  {
   "cell_type": "code",
   "execution_count": 25,
   "metadata": {},
   "outputs": [
    {
     "data": {
      "text/plain": [
       "<AxesSubplot: ylabel='Frequency'>"
      ]
     },
     "execution_count": 25,
     "metadata": {},
     "output_type": "execute_result"
    },
    {
     "data": {
      "image/png": "[encoded data removed]",
      "text/plain": [
       "<Figure size 640x480 with 1 Axes>"
      ]
     },
     "metadata": {},
     "output_type": "display_data"
    }
   ],
   "source": [
    "df_seg.duration.plot(kind='hist')"
   ]
  },
  {
   "cell_type": "code",
   "execution_count": 26,
   "metadata": {},
   "outputs": [],
   "source": [
    "df_seg.to_csv('../age_files/ml_age_segmented.csv')"
   ]
  },
  {
   "cell_type": "code",
   "execution_count": null,
   "metadata": {},
   "outputs": [],
   "source": []
  }
 ],
 "metadata": {
  "kernelspec": {
   "display_name": "venv",
   "language": "python",
   "name": "python3"
  },
  "language_info": {
   "codemirror_mode": {
    "name": "ipython",
    "version": 3
   },
   "file_extension": ".py",
   "mimetype": "text/x-python",
   "name": "python",
   "nbconvert_exporter": "python",
   "pygments_lexer": "ipython3",
   "version": "3.8.10"
  },
  "orig_nbformat": 4,
  "vscode": {
   "interpreter": {
    "hash": "e612a00c3c89fc8d07becb2d3afaf93d22d7759248ab554035a08b66ce8ae8fc"
   }
  }
 },
 "nbformat": 4,
 "nbformat_minor": 2
}
